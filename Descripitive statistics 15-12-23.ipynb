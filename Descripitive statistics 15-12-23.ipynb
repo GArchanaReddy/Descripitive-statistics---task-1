{
 "cells": [
  {
   "cell_type": "code",
   "execution_count": 3,
   "id": "6f0373c0",
   "metadata": {},
   "outputs": [],
   "source": [
    "import numpy as np\n"
   ]
  },
  {
   "cell_type": "code",
   "execution_count": 4,
   "id": "767c2f63",
   "metadata": {},
   "outputs": [],
   "source": [
    "fpath = r\"C:\\Users\\ARCHANA REDDY\\Downloads\\sample_data.csv\""
   ]
  },
  {
   "cell_type": "code",
   "execution_count": 5,
   "id": "94aba4db",
   "metadata": {},
   "outputs": [
    {
     "name": "stdout",
     "output_type": "stream",
     "text": [
      "[[ 0. 25. 40.]\n",
      " [ 1. 30. 35.]\n",
      " [ 2. 28. 38.]\n",
      " [ 3. 32. 41.]\n",
      " [ 4. 26. 37.]\n",
      " [ 5. 29. 36.]\n",
      " [ 6. 27. 39.]\n",
      " [ 7. 33. 42.]\n",
      " [ 8. 31. 38.]\n",
      " [ 9. 28. 37.]\n",
      " [10. 30. 40.]\n",
      " [11. 29. 36.]]\n"
     ]
    }
   ],
   "source": [
    "x= np.genfromtxt(fpath,delimiter =',', skip_header=1)\n",
    "print(x)"
   ]
  },
  {
   "cell_type": "markdown",
   "id": "1da050be",
   "metadata": {},
   "source": [
    "# Measure of central tendency"
   ]
  },
  {
   "cell_type": "markdown",
   "id": "2ceee634",
   "metadata": {},
   "source": [
    "# 1)Calculate the mean sales for Product A and Product B. Compare the average monthly sales for the two products and discuss any observed trends."
   ]
  },
  {
   "cell_type": "code",
   "execution_count": 6,
   "id": "29eacdaa",
   "metadata": {},
   "outputs": [
    {
     "name": "stdout",
     "output_type": "stream",
     "text": [
      "Mean Sale for Product A :  29.0\n",
      "Mean Sale for Product B :  38.25\n"
     ]
    }
   ],
   "source": [
    "Product_A = x[:,1]\n",
    "Product_B = x[:,2]\n",
    "\n",
    "a = np.mean(Product_A)\n",
    "b = np.mean(Product_B)\n",
    "\n",
    "print('Mean Sale for Product A : ', a)\n",
    "print('Mean Sale for Product B : ', b)"
   ]
  },
  {
   "cell_type": "markdown",
   "id": "b7f35b99",
   "metadata": {},
   "source": [
    "The average monthly sales for Product A is approximately 29.0\n",
    "The average monthly sales for Product B is 38.25"
   ]
  },
  {
   "cell_type": "markdown",
   "id": "7f35a45e",
   "metadata": {},
   "source": [
    "# 2). Find the median sales for each product and discuss how it reflects the central tendency of the sales distribution."
   ]
  },
  {
   "cell_type": "code",
   "execution_count": 8,
   "id": "7028dc77",
   "metadata": {},
   "outputs": [
    {
     "name": "stdout",
     "output_type": "stream",
     "text": [
      "Median Sale for Product A :  29.0\n",
      "Median Sale for Product B :  38.0\n"
     ]
    }
   ],
   "source": [
    "Product_A = x[:,1]\n",
    "Product_B = x[:,2]\n",
    "\n",
    "a = np.median(Product_A)\n",
    "b = np.median(Product_B)\n",
    "\n",
    "print('Median Sale for Product A : ', a)\n",
    "print('Median Sale for Product B : ', b)"
   ]
  },
  {
   "cell_type": "markdown",
   "id": "13302b41",
   "metadata": {},
   "source": [
    "Central Tendency: Both medians (29 for Product A and 38 for Product B) serve as robust indicators of central tendency. They are less sensitive to extreme values compared to the mean. The medians suggest that, in general, half of the sales values fall below the indicated values, providing a sense of the typical sales level for each product."
   ]
  },
  {
   "cell_type": "markdown",
   "id": "e0211e1c",
   "metadata": {},
   "source": [
    "# 3). Identify the mode of the sales data for both Product A and Product B. Discuss the significance of the mode in the context of these products."
   ]
  },
  {
   "cell_type": "code",
   "execution_count": 9,
   "id": "71c6026d",
   "metadata": {},
   "outputs": [
    {
     "name": "stdout",
     "output_type": "stream",
     "text": [
      "Mode Sale for Product A :  30.0\n",
      "Mode Sale for Product B :  40.0\n"
     ]
    }
   ],
   "source": [
    "import statistics\n",
    "\n",
    "Product_A = x[:,1]\n",
    "Product_B = x[:,2]\n",
    "\n",
    "a = statistics.mode(Product_A)\n",
    "b = statistics.mode(Product_B)\n",
    "\n",
    "print('Mode Sale for Product A : ', a)\n",
    "print('Mode Sale for Product B : ', b)"
   ]
  },
  {
   "cell_type": "markdown",
   "id": "4f0a380c",
   "metadata": {},
   "source": [
    "# 4)Calculate the weighted mean of the sales data, assuming each month has an equal weight. Discuss any implications of using weighted mean in this context."
   ]
  },
  {
   "cell_type": "code",
   "execution_count": 10,
   "id": "b0755dd9",
   "metadata": {},
   "outputs": [
    {
     "name": "stdout",
     "output_type": "stream",
     "text": [
      "Weighted mean of the sales data of Product A : 29.0\n",
      "Weighted mean of the sales data of Product B : 38.25\n"
     ]
    }
   ],
   "source": [
    "Product_A = x[:,1]\n",
    "Product_B = x[:,2]\n",
    "\n",
    "weight=np.ones(12)\n",
    "\n",
    "weighted_A = weight * Product_A\n",
    "a = np.mean(weighted_A)\n",
    "\n",
    "weighted_B = weight * Product_B\n",
    "b = np.mean(weighted_B)\n",
    "\n",
    "print('Weighted mean of the sales data of Product A :', a)\n",
    "print('Weighted mean of the sales data of Product B :', b)"
   ]
  },
  {
   "cell_type": "markdown",
   "id": "e987537d",
   "metadata": {},
   "source": [
    "# Measure of Dispersion"
   ]
  },
  {
   "cell_type": "markdown",
   "id": "831315db",
   "metadata": {},
   "source": [
    "# 1)1. Compute the range of monthly sales for both Product A and Product B. Discuss how the range provides insights into the variability of sales."
   ]
  },
  {
   "cell_type": "code",
   "execution_count": 11,
   "id": "0011817a",
   "metadata": {},
   "outputs": [
    {
     "name": "stdout",
     "output_type": "stream",
     "text": [
      "8.0\n",
      "7.0\n"
     ]
    }
   ],
   "source": [
    "range_A = x[:,1].max() - x[:,1].min()\n",
    "range_B = x[:,2].max() - x[:,2].min()\n",
    "\n",
    "print(range_A)\n",
    "print(range_B)"
   ]
  },
  {
   "cell_type": "markdown",
   "id": "481cdf19",
   "metadata": {},
   "source": [
    "# 2)Calculate the variance of the sales data for both products. Discuss what the variance reveals about the spread of sales for each product."
   ]
  },
  {
   "cell_type": "code",
   "execution_count": 12,
   "id": "028e2331",
   "metadata": {},
   "outputs": [
    {
     "name": "stdout",
     "output_type": "stream",
     "text": [
      "Variance of Sales for Product A: 5.166666666666667\n",
      "Variance of Sales for Product B: 4.354166666666667\n"
     ]
    }
   ],
   "source": [
    "Product_A = x[:,1]\n",
    "Product_B = x[:,2]\n",
    "\n",
    "\n",
    "a = np.mean(Product_A)\n",
    "variance_product_a = np.sum((Product_A - a)**2) / len(Product_A)\n",
    "\n",
    "b = np.mean(Product_B)\n",
    "variance_product_b = np.sum((Product_B - b)**2) / len(Product_B)\n",
    "\n",
    "print(\"Variance of Sales for Product A:\", variance_product_a)\n",
    "print(\"Variance of Sales for Product B:\", variance_product_b)"
   ]
  },
  {
   "cell_type": "markdown",
   "id": "ef1567f0",
   "metadata": {},
   "source": [
    "A higher variance for Product A would indicate a greater spread or dispersion in monthly sales values.This could suggest that sales values for Product A vary more widely around the mean, indicating potential fluctuations or variability in demand.\n",
    "A lower variance for Product B would indicate less spread or dispersion in monthly sales values.This could suggest more consistent sales performance, with sales values clustering closely around the mean.\n",
    "High variance may be associated with higher uncertainty and volatility in sales. Low variance may suggest more predictable and stable sales patterns."
   ]
  },
  {
   "cell_type": "markdown",
   "id": "9d6ab360",
   "metadata": {},
   "source": [
    "# 3)Determine the standard deviation of the sales for Product A and Product B. Discuss the significance of standard deviation in understanding the variability in sales."
   ]
  },
  {
   "cell_type": "code",
   "execution_count": 13,
   "id": "a81fed9c",
   "metadata": {},
   "outputs": [
    {
     "name": "stdout",
     "output_type": "stream",
     "text": [
      "Standard Deviation of Sales for Product A: 2.273030282830976\n",
      "Standard Deviation of Sales for Product B: 2.0866640042581523\n"
     ]
    }
   ],
   "source": [
    "Product_A = x[:,1]\n",
    "Product_B = x[:,2]\n",
    "\n",
    "a = np.mean(Product_A)\n",
    "standard_deviation_product_a = np.sqrt(np.sum((Product_A - a)**2) / len(Product_A))\n",
    "\n",
    "b = np.mean(Product_B)\n",
    "standard_deviation_product_b = np.sqrt(np.sum((Product_B - b)**2) / (len(Product_B)))\n",
    "\n",
    "print(\"Standard Deviation of Sales for Product A:\", standard_deviation_product_a)\n",
    "print(\"Standard Deviation of Sales for Product B:\", standard_deviation_product_b)"
   ]
  },
  {
   "cell_type": "markdown",
   "id": "6bdb9369",
   "metadata": {},
   "source": [
    "# Relative measure of dispersion"
   ]
  },
  {
   "cell_type": "markdown",
   "id": "08803510",
   "metadata": {},
   "source": [
    "# 1) Calculate the coefficient of variation for the sales data of Product A. Discuss how this relative measure of dispersion helps in comparing the variability of products with different average sales."
   ]
  },
  {
   "cell_type": "code",
   "execution_count": 14,
   "id": "bd528813",
   "metadata": {},
   "outputs": [
    {
     "name": "stdout",
     "output_type": "stream",
     "text": [
      "Coefficient of variation for the sales data of Product A : 7.838035458037848\n"
     ]
    }
   ],
   "source": [
    "Product_A = x[:,1]\n",
    "\n",
    "a = np.mean(Product_A)\n",
    "\n",
    "Std = np.std(Product_A)\n",
    "\n",
    "coeff=(Std/a)*100\n",
    "\n",
    "print('Coefficient of variation for the sales data of Product A :',coeff)"
   ]
  },
  {
   "cell_type": "markdown",
   "id": "f17cea7b",
   "metadata": {},
   "source": [
    "# 2)Compute the relative range for Product B. Discuss how the relative range accounts for the scale of the sales data."
   ]
  },
  {
   "cell_type": "code",
   "execution_count": 15,
   "id": "a98f0088",
   "metadata": {},
   "outputs": [
    {
     "data": {
      "text/plain": [
       "18.30065359477124"
      ]
     },
     "execution_count": 15,
     "metadata": {},
     "output_type": "execute_result"
    }
   ],
   "source": [
    "Product_B = x[:,2]\n",
    "\n",
    "B = np.max(Product_B) - np.min(Product_B)\n",
    "\n",
    "b = np.mean(Product_B)\n",
    "\n",
    "relative_range_B = (B/b)*100\n",
    "\n",
    "relative_range_B"
   ]
  },
  {
   "cell_type": "markdown",
   "id": "2e26574a",
   "metadata": {},
   "source": [
    "product B is mean is 38.25 and relative range of product B = 18.30065359477124\n",
    "A product with a high mean sales but a low relative range has more stable sales than a product with a low mean sales but a high relative range"
   ]
  },
  {
   "cell_type": "markdown",
   "id": "69f9ec94",
   "metadata": {},
   "source": [
    "# 3)Determine the relative standard deviation for Product A. Interpret the result and discuss its implications for understanding the variability relative to the mean."
   ]
  },
  {
   "cell_type": "code",
   "execution_count": 16,
   "id": "f3867ac1",
   "metadata": {},
   "outputs": [
    {
     "name": "stdout",
     "output_type": "stream",
     "text": [
      "relative standard deviation for Product A : 7.838035458037848\n"
     ]
    }
   ],
   "source": [
    "Product_A = x[:,1]\n",
    "\n",
    "a = np.mean(Product_A)\n",
    "\n",
    "Std = np.std(Product_A)\n",
    "\n",
    "rel_std = (Std / a)*100\n",
    "\n",
    "print('relative standard deviation for Product A :',rel_std)"
   ]
  },
  {
   "cell_type": "markdown",
   "id": "636ee7f0",
   "metadata": {},
   "source": [
    "relative standard deviation for Product A : 7.838035458037848\n",
    "Product A mean is 29.0 and relative standard deviation of product A is 7.838035458037848, Product A is with low CV values have less relative variability around their mean, sales are stable consistent"
   ]
  }
 ],
 "metadata": {
  "kernelspec": {
   "display_name": "Python 3 (ipykernel)",
   "language": "python",
   "name": "python3"
  },
  "language_info": {
   "codemirror_mode": {
    "name": "ipython",
    "version": 3
   },
   "file_extension": ".py",
   "mimetype": "text/x-python",
   "name": "python",
   "nbconvert_exporter": "python",
   "pygments_lexer": "ipython3",
   "version": "3.11.5"
  }
 },
 "nbformat": 4,
 "nbformat_minor": 5
}
